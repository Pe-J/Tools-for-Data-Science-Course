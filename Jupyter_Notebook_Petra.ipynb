{
  "metadata": {
    "kernelspec": {
      "name": "python",
      "display_name": "Pyolite",
      "language": "python"
    },
    "language_info": {
      "codemirror_mode": {
        "name": "python",
        "version": 3
      },
      "file_extension": ".py",
      "mimetype": "text/x-python",
      "name": "python",
      "nbconvert_exporter": "python",
      "pygments_lexer": "ipython3",
      "version": "3.8"
    }
  },
  "nbformat_minor": 4,
  "nbformat": 4,
  "cells": [
    {
      "cell_type": "markdown",
      "source": "<center>\n    <img src=\"https://s3-api.us-geo.objectstorage.softlayer.net/cf-courses-data/CognitiveClass/Logos/organization_logo/organization_logo.png\" width=\"300\" alt=\"cognitiveclass.ai logo\"  />\n</center>\n",
      "metadata": {}
    },
    {
      "cell_type": "markdown",
      "source": "# My Jupyter Notebook on IBM Watson Studio",
      "metadata": {
        "tags": []
      }
    },
    {
      "cell_type": "markdown",
      "source": "**Petra Jobran**\n\nData Scientist",
      "metadata": {}
    },
    {
      "cell_type": "markdown",
      "source": "*I am interested in data science because I like working with data.*",
      "metadata": {}
    },
    {
      "cell_type": "markdown",
      "source": "### The following code is to print out the sum of two numbers:",
      "metadata": {}
    },
    {
      "cell_type": "code",
      "source": "x =1\ny =2\nprint(x+y)",
      "metadata": {
        "trusted": true
      },
      "execution_count": 1,
      "outputs": [
        {
          "name": "stdout",
          "text": "3\n",
          "output_type": "stream"
        }
      ]
    },
    {
      "cell_type": "markdown",
      "source": "\n\n1. Code and Syntax Highlighting:\n\nUsing Markdown or HTML, this cell must include **at least 3 of the following**: `horizontal rule`, `bulleted list`, `numbered list`, `tables`, `hyperlinks`, `images`, `code/syntax highlighting`, `blocked quotes`, `strikethrough`.\n\n2. Horizontal rule:\n\n---\n\n3. Hyperlinks:\n\n[IBM Cloud Gallery](https://dataplatform.cloud.ibm.com/gallery)\n\n\n4. Tables:\n\n| x | y | x+y |\n| :---: | :---: | :---: |\n| 1 | 2 | 3 |\n| 2 | 4 | 6 |\n| 3 | 5 | 8 |\n\n5. Strikethrough:\n\n~~8/14/2022~~\n\n6. Blocked quotes:\n\n> This is the final exam of **Tools for Data Science** Course.\n> This Course is part of the **Data Sience Fundamentals with Python and SQL**.\n\nAbout this Course:\n\n> What are some of the most popular data science tools, how do you use them, and what are their features? In this course, you'll learn about Jupyter Notebooks, JupyterLab, RStudio IDE, Git, GitHub, and Watson Studio. You will learn about what each tool is used for, what programming languages they can execute, their features and limitations. With the tools hosted in the cloud on Skills Network Labs, you will be able to test each tool and follow instructions to run simple code in Python, R or Scala. To end the course, you will create a final project with a Jupyter Notebook on IBM Watson Studio and demonstrate your proficiency preparing a notebook, writing Markdown, and sharing your work with your peers.\n\n",
      "metadata": {}
    },
    {
      "cell_type": "code",
      "source": "",
      "metadata": {},
      "execution_count": null,
      "outputs": []
    }
  ]
}