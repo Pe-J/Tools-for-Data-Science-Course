{
 "cells": [
  {
   "cell_type": "markdown",
   "metadata": {},
   "source": [
    "<center>\n",
    "    <img src=\"https://s3-api.us-geo.objectstorage.softlayer.net/cf-courses-data/CognitiveClass/Logos/organization_logo/organization_logo.png\" width=\"300\" alt=\"cognitiveclass.ai logo\"  />\n",
    "</center>\n"
   ]
  },
  {
   "cell_type": "markdown",
   "metadata": {},
   "source": [
    "#### Add your code below following the instructions given in the course\n"
   ]
  },
  {
   "cell_type": "markdown",
   "metadata": {
    "tags": []
   },
   "source": [
    "# My Jupyter Notebook on IBM Watson Studio"
   ]
  },
  {
   "cell_type": "markdown",
   "metadata": {},
   "source": [
    "**Petra Jobran**\n",
    "\n",
    "Data Scientist"
   ]
  },
  {
   "cell_type": "markdown",
   "metadata": {},
   "source": [
    "*I am interested in data science because I like working with data.*"
   ]
  },
  {
   "cell_type": "markdown",
   "metadata": {},
   "source": [
    "### The following code is to print out the sum of two numbers:"
   ]
  },
  {
   "cell_type": "code",
   "execution_count": 1,
   "metadata": {},
   "outputs": [
    {
     "name": "stdout",
     "output_type": "stream",
     "text": [
      "3\n"
     ]
    }
   ],
   "source": [
    "x =1\n",
    "y =2\n",
    "print(x+y)"
   ]
  },
  {
   "cell_type": "markdown",
   "metadata": {},
   "source": [
    "\n",
    "\n",
    "1. Code and Syntax Highlighting:\n",
    "\n",
    "Using Markdown or HTML, this cell must include **at least 3 of the following**: `horizontal rule`, `bulleted list`, `numbered list`, `tables`, `hyperlinks`, `images`, `code/syntax highlighting`, `blocked quotes`, `strikethrough`.\n",
    "\n",
    "2. Horizontal rule:\n",
    "\n",
    "---\n",
    "\n",
    "3. Hyperlinks:\n",
    "\n",
    "[IBM Cloud Gallery](https://dataplatform.cloud.ibm.com/gallery)\n",
    "\n",
    "\n",
    "4. Tables:\n",
    "\n",
    "| x | y | x+y |\n",
    "| :---: | :---: | :---: |\n",
    "| 1 | 2 | 3 |\n",
    "| 2 | 4 | 6 |\n",
    "| 3 | 5 | 8 |\n",
    "\n",
    "5. Strikethrough:\n",
    "\n",
    "~~8/14/2022~~\n",
    "\n",
    "6. Blocked quotes:\n",
    "\n",
    "> This is the final exam of **Tools for Data Science** Course.\n",
    "> This Course is part of the **Data Sience Fundamentals with Python and SQL**.\n",
    "\n",
    "About this Course:\n",
    "\n",
    "> What are some of the most popular data science tools, how do you use them, and what are their features? In this course, you'll learn about Jupyter Notebooks, JupyterLab, RStudio IDE, Git, GitHub, and Watson Studio. You will learn about what each tool is used for, what programming languages they can execute, their features and limitations. With the tools hosted in the cloud on Skills Network Labs, you will be able to test each tool and follow instructions to run simple code in Python, R or Scala. To end the course, you will create a final project with a Jupyter Notebook on IBM Watson Studio and demonstrate your proficiency preparing a notebook, writing Markdown, and sharing your work with your peers.\n",
    "\n"
   ]
  },
  {
   "cell_type": "code",
   "execution_count": null,
   "metadata": {},
   "outputs": [],
   "source": []
  }
 ],
 "metadata": {
  "kernelspec": {
   "display_name": "Python",
   "language": "python",
   "name": "conda-env-python-py"
  },
  "language_info": {
   "codemirror_mode": {
    "name": "ipython",
    "version": 3
   },
   "file_extension": ".py",
   "mimetype": "text/x-python",
   "name": "python",
   "nbconvert_exporter": "python",
   "pygments_lexer": "ipython3",
   "version": "3.7.12"
  }
 },
 "nbformat": 4,
 "nbformat_minor": 4
}
